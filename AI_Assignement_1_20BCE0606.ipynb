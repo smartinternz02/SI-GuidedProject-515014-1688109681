{
 "cells": [
  {
   "cell_type": "code",
   "execution_count": 1,
   "id": "0bcf0735",
   "metadata": {},
   "outputs": [],
   "source": [
    "import pandas as pd\n",
    "import numpy as np"
   ]
  },
  {
   "cell_type": "code",
   "execution_count": 3,
   "id": "43475274",
   "metadata": {},
   "outputs": [],
   "source": [
    "np.random.seed(42)"
   ]
  },
  {
   "cell_type": "code",
   "execution_count": 4,
   "id": "4c1e72f1",
   "metadata": {},
   "outputs": [],
   "source": [
    "# Create a NumPy array with random values\n",
    "data = np.random.rand(4, 4)"
   ]
  },
  {
   "cell_type": "code",
   "execution_count": 5,
   "id": "539a2c31",
   "metadata": {},
   "outputs": [],
   "source": [
    "# Create the DataFrame\n",
    "df = pd.DataFrame(data, columns=['Feature 1', 'Feature 2', 'Feature 3', 'Feature 4'])"
   ]
  },
  {
   "cell_type": "code",
   "execution_count": 6,
   "id": "2005f398",
   "metadata": {},
   "outputs": [
    {
     "name": "stdout",
     "output_type": "stream",
     "text": [
      "   Feature 1  Feature 2  Feature 3  Feature 4\n",
      "0   0.374540   0.950714   0.731994   0.598658\n",
      "1   0.156019   0.155995   0.058084   0.866176\n",
      "2   0.601115   0.708073   0.020584   0.969910\n",
      "3   0.832443   0.212339   0.181825   0.183405\n"
     ]
    }
   ],
   "source": [
    "# Display the DataFrame\n",
    "print(df)"
   ]
  },
  {
   "cell_type": "markdown",
   "id": "0691c722",
   "metadata": {},
   "source": [
    "Question 2"
   ]
  },
  {
   "cell_type": "code",
   "execution_count": 7,
   "id": "baa0f819",
   "metadata": {},
   "outputs": [],
   "source": [
    "# Rename the columns\n",
    "new_columns = {'Feature 1': 'Random 1', 'Feature 2': 'Random 2', 'Feature 3': 'Random 3', 'Feature 4': 'Random 4'}\n",
    "df.rename(columns=new_columns, inplace=True)"
   ]
  },
  {
   "cell_type": "code",
   "execution_count": 8,
   "id": "72da54e4",
   "metadata": {},
   "outputs": [
    {
     "name": "stdout",
     "output_type": "stream",
     "text": [
      "   Random 1  Random 2  Random 3  Random 4\n",
      "0  0.374540  0.950714  0.731994  0.598658\n",
      "1  0.156019  0.155995  0.058084  0.866176\n",
      "2  0.601115  0.708073  0.020584  0.969910\n",
      "3  0.832443  0.212339  0.181825  0.183405\n"
     ]
    }
   ],
   "source": [
    "print(df)"
   ]
  },
  {
   "cell_type": "markdown",
   "id": "6b0dadc2",
   "metadata": {},
   "source": [
    "Question 3"
   ]
  },
  {
   "cell_type": "code",
   "execution_count": 10,
   "id": "b2354744",
   "metadata": {},
   "outputs": [],
   "source": [
    "# Find descriptive statistics\n",
    "statistics = df.describe()"
   ]
  },
  {
   "cell_type": "code",
   "execution_count": 11,
   "id": "ef590d6a",
   "metadata": {},
   "outputs": [
    {
     "name": "stdout",
     "output_type": "stream",
     "text": [
      "       Random 1  Random 2  Random 3  Random 4\n",
      "count  4.000000  4.000000  4.000000  4.000000\n",
      "mean   0.491029  0.506780  0.248122  0.654537\n",
      "std    0.291252  0.386153  0.329856  0.350875\n",
      "min    0.156019  0.155995  0.020584  0.183405\n",
      "25%    0.319910  0.198253  0.048709  0.494845\n",
      "50%    0.487828  0.460206  0.119954  0.732417\n",
      "75%    0.658947  0.768733  0.319367  0.892110\n",
      "max    0.832443  0.950714  0.731994  0.969910\n"
     ]
    }
   ],
   "source": [
    "# Display the descriptive statistics\n",
    "print(statistics)"
   ]
  },
  {
   "cell_type": "markdown",
   "id": "b6f59ea6",
   "metadata": {},
   "source": [
    "Question 4"
   ]
  },
  {
   "cell_type": "code",
   "execution_count": 12,
   "id": "2c63d3c0",
   "metadata": {},
   "outputs": [],
   "source": [
    "# Check for null values\n",
    "null_values = df.isnull().sum()"
   ]
  },
  {
   "cell_type": "code",
   "execution_count": 13,
   "id": "5a7cd89e",
   "metadata": {},
   "outputs": [
    {
     "name": "stdout",
     "output_type": "stream",
     "text": [
      "Random 1    0\n",
      "Random 2    0\n",
      "Random 3    0\n",
      "Random 4    0\n",
      "dtype: int64\n"
     ]
    }
   ],
   "source": [
    "print(null_values)"
   ]
  },
  {
   "cell_type": "code",
   "execution_count": 14,
   "id": "0f5fa129",
   "metadata": {},
   "outputs": [],
   "source": [
    "# Find the data types of columns\n",
    "data_types = df.dtypes"
   ]
  },
  {
   "cell_type": "code",
   "execution_count": 15,
   "id": "461f41ca",
   "metadata": {},
   "outputs": [
    {
     "name": "stdout",
     "output_type": "stream",
     "text": [
      "Random 1    float64\n",
      "Random 2    float64\n",
      "Random 3    float64\n",
      "Random 4    float64\n",
      "dtype: object\n"
     ]
    }
   ],
   "source": [
    "print(data_types)"
   ]
  },
  {
   "cell_type": "markdown",
   "id": "9ebacf34",
   "metadata": {},
   "source": [
    "Question 5"
   ]
  },
  {
   "cell_type": "code",
   "execution_count": 19,
   "id": "2014147b",
   "metadata": {},
   "outputs": [],
   "source": [
    "# Display values using loc method\n",
    "loc_values = df.loc[:, ['Random 2', 'Random 3']]"
   ]
  },
  {
   "cell_type": "code",
   "execution_count": 18,
   "id": "f4146daf",
   "metadata": {},
   "outputs": [
    {
     "name": "stdout",
     "output_type": "stream",
     "text": [
      "   Random 2  Random 3\n",
      "0  0.950714  0.731994\n",
      "1  0.155995  0.058084\n",
      "2  0.708073  0.020584\n",
      "3  0.212339  0.181825\n"
     ]
    }
   ],
   "source": [
    "print(loc_values)"
   ]
  },
  {
   "cell_type": "code",
   "execution_count": null,
   "id": "0a66e3f1",
   "metadata": {},
   "outputs": [],
   "source": []
  }
 ],
 "metadata": {
  "kernelspec": {
   "display_name": "Python 3 (ipykernel)",
   "language": "python",
   "name": "python3"
  },
  "language_info": {
   "codemirror_mode": {
    "name": "ipython",
    "version": 3
   },
   "file_extension": ".py",
   "mimetype": "text/x-python",
   "name": "python",
   "nbconvert_exporter": "python",
   "pygments_lexer": "ipython3",
   "version": "3.11.1"
  }
 },
 "nbformat": 4,
 "nbformat_minor": 5
}
